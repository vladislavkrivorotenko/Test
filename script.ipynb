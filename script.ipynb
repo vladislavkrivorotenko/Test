{
 "cells": [
  {
   "cell_type": "markdown",
   "metadata": {},
   "source": [
    "# Подключаем необходимые библиотеки"
   ]
  },
  {
   "cell_type": "code",
   "execution_count": 10,
   "metadata": {
    "collapsed": true
   },
   "outputs": [],
   "source": [
    "import sqlite3 #Подключаем sqlite\n",
    "import xlrd, xlwt #Подключаем утилиты для импорта данных excel"
   ]
  },
  {
   "cell_type": "markdown",
   "metadata": {},
   "source": [
    "# Инициализируем подключение и создаем базу"
   ]
  },
  {
   "cell_type": "code",
   "execution_count": null,
   "metadata": {
    "collapsed": true
   },
   "outputs": [],
   "source": [
    "#При запуске указать новую bd_name и выполнить последовательно все окна ниже\n",
    "bd_name=\"Test3.db\" "
   ]
  },
  {
   "cell_type": "code",
   "execution_count": 11,
   "metadata": {
    "collapsed": true
   },
   "outputs": [],
   "source": [
    "conn=sqlite3.Connection(bd_name)"
   ]
  },
  {
   "cell_type": "code",
   "execution_count": 12,
   "metadata": {
    "collapsed": true
   },
   "outputs": [],
   "source": [
    "cur=conn.cursor()"
   ]
  },
  {
   "cell_type": "markdown",
   "metadata": {},
   "source": [
    "# Создаем необходимые input-таблицы"
   ]
  },
  {
   "cell_type": "code",
   "execution_count": 13,
   "metadata": {},
   "outputs": [
    {
     "data": {
      "text/plain": [
       "<sqlite3.Cursor at 0x7ff2a3750180>"
      ]
     },
     "execution_count": 13,
     "metadata": {},
     "output_type": "execute_result"
    }
   ],
   "source": [
    "cur.execute(\"\"\"\n",
    "     create table organisations_test1\n",
    "     (\n",
    "       row_id string,\n",
    "x_mts_full_accnt_name string,\n",
    "ou_type_cd string,\n",
    "x_holding_number string,\n",
    "x_mts_national_manager_id string,\n",
    "last_upd_utc date,\n",
    "par_ou_id string\n",
    "     )\n",
    "     \"\"\")"
   ]
  },
  {
   "cell_type": "code",
   "execution_count": 14,
   "metadata": {},
   "outputs": [
    {
     "data": {
      "text/plain": [
       "<sqlite3.Cursor at 0x7ff2a3750180>"
      ]
     },
     "execution_count": 14,
     "metadata": {},
     "output_type": "execute_result"
    }
   ],
   "source": [
    "\n",
    "cur.execute(\"\"\"\n",
    "     create table contracts_test1\n",
    "     (\n",
    "       row_id string,\n",
    "cust_stat_cd string,\n",
    "ou_num string,\n",
    "x_mts_full_accnt_name string,\n",
    "last_upd_utc date,\n",
    "par_ou_id string\n",
    "     )\n",
    "     \"\"\")"
   ]
  },
  {
   "cell_type": "code",
   "execution_count": 15,
   "metadata": {},
   "outputs": [
    {
     "data": {
      "text/plain": [
       "<sqlite3.Cursor at 0x7ff2a3750180>"
      ]
     },
     "execution_count": 15,
     "metadata": {},
     "output_type": "execute_result"
    }
   ],
   "source": [
    "\n",
    "\n",
    "cur.execute(\"\"\"\n",
    "     create table users_test1\n",
    "     (\n",
    "       row_id string,\n",
    "fst_name string,\n",
    "last_name string,\n",
    "mid_name string,\n",
    "job_title string,\n",
    "last_upd_utc date\n",
    "     )\n",
    "     \"\"\")"
   ]
  },
  {
   "cell_type": "markdown",
   "metadata": {},
   "source": [
    "# Загружаем данные из книги Источники в созданные таблицы"
   ]
  },
  {
   "cell_type": "code",
   "execution_count": 16,
   "metadata": {},
   "outputs": [
    {
     "data": {
      "text/plain": [
       "'GJSVX'"
      ]
     },
     "execution_count": 16,
     "metadata": {},
     "output_type": "execute_result"
    }
   ],
   "source": [
    "\n",
    "\n",
    "rb = xlrd.open_workbook('Источники.xlsx')\n",
    "\n",
    "sheet = rb.sheet_by_index(0)\n",
    "sheet.row_values(0)[6]"
   ]
  },
  {
   "cell_type": "code",
   "execution_count": 17,
   "metadata": {},
   "outputs": [
    {
     "name": "stdout",
     "output_type": "stream",
     "text": [
      "organizations\n",
      "contracts\n",
      "users\n"
     ]
    }
   ],
   "source": [
    "for i in range(0,3):\n",
    "    sheet=rb.sheet_by_index(i)\n",
    "    print(sheet.name)"
   ]
  },
  {
   "cell_type": "code",
   "execution_count": 18,
   "metadata": {
    "collapsed": true
   },
   "outputs": [],
   "source": [
    "sheet=rb.sheet_by_index(0)\n",
    "\n",
    "#Импортируем organizations\n",
    "for i in range(0,9):\n",
    "    query=\"\"\"\n",
    "    insert into organisations_test1 values\n",
    "    ('{row_id}','{x_mts_full_accnt_name}', '{ou_type_cd}','{x_holding_number}','{x_mts_national_manager_id}',\n",
    "     '{last_upd_utc}','{par_ou_id}'\n",
    "    )\n",
    "    \"\"\".format(\n",
    "               row_id=sheet.row_values(i)[0],\n",
    "               x_mts_full_accnt_name=sheet.row_values(i)[1],\n",
    "               ou_type_cd=sheet.row_values(i)[2],\n",
    "               x_holding_number=sheet.row_values(i)[3],\n",
    "               x_mts_national_manager_id=sheet.row_values(i)[4],\n",
    "               last_upd_utc=sheet.row_values(i)[5],\n",
    "               par_ou_id=sheet.row_values(i)[6]\n",
    "    )\n",
    "    cur.execute(query)\n",
    "    "
   ]
  },
  {
   "cell_type": "code",
   "execution_count": 19,
   "metadata": {
    "collapsed": true
   },
   "outputs": [],
   "source": [
    "#Импортируем contracts\n",
    "\n",
    "sheet = rb.sheet_by_index(1)\n",
    "for i in range(0,8):\n",
    "    query=\"\"\"\n",
    "    insert into contracts_test1 values\n",
    "    ('{row_id}','{cust_stat_cd}', '{ou_num}','{x_mts_full_accnt_name}','{last_upd_utc}','{par_ou_id}')\n",
    "    \"\"\".format(\n",
    "               row_id=sheet.row_values(i)[0],\n",
    "               cust_stat_cd=sheet.row_values(i)[1],\n",
    "               ou_num=sheet.row_values(i)[2],\n",
    "               x_mts_full_accnt_name=sheet.row_values(i)[3],\n",
    "               last_upd_utc=sheet.row_values(i)[4],\n",
    "               par_ou_id=sheet.row_values(i)[5]\n",
    "    )\n",
    "    cur.execute(query)"
   ]
  },
  {
   "cell_type": "code",
   "execution_count": 20,
   "metadata": {
    "collapsed": true
   },
   "outputs": [],
   "source": [
    "#Импортируем users\n",
    "\n",
    "\n",
    "sheet = rb.sheet_by_index(2)\n",
    "for i in range(0,9):\n",
    "    query=\"\"\"\n",
    "    insert into users_test1 values\n",
    "    ('{row_id}','{fst_name}', '{last_name}','{mid_name}','{job_title}','{last_upd_utc}')\n",
    "    \"\"\".format(\n",
    "               row_id=sheet.row_values(i)[0],\n",
    "               fst_name=sheet.row_values(i)[1],\n",
    "               last_name=sheet.row_values(i)[2],\n",
    "               mid_name=sheet.row_values(i)[3],\n",
    "               job_title=sheet.row_values(i)[4],\n",
    "               last_upd_utc=sheet.row_values(i)[5]\n",
    "    )\n",
    "    cur.execute(query)"
   ]
  },
  {
   "cell_type": "markdown",
   "metadata": {},
   "source": [
    "# Формируем результирующую выборку согласно заданию"
   ]
  },
  {
   "cell_type": "code",
   "execution_count": 31,
   "metadata": {},
   "outputs": [
    {
     "data": {
      "text/plain": [
       "'2.6.0'"
      ]
     },
     "execution_count": 31,
     "metadata": {},
     "output_type": "execute_result"
    }
   ],
   "source": [
    "sqlite3.version"
   ]
  },
  {
   "cell_type": "code",
   "execution_count": 23,
   "metadata": {},
   "outputs": [
    {
     "data": {
      "text/plain": [
       "[(1784324873,\n",
       "  'LJLKS',\n",
       "  'Ромашка Холдинг',\n",
       "  12345,\n",
       "  'Лебедев Павел Александрович',\n",
       "  'эксперт'),\n",
       " (1765467564,\n",
       "  'YPGFD',\n",
       "  'Василёк Inc.',\n",
       "  12346,\n",
       "  'Смирнов Николай Сергеевич',\n",
       "  'специалист'),\n",
       " (1773845363,\n",
       "  'LJLKS',\n",
       "  'Ромашка Холдинг',\n",
       "  12345,\n",
       "  'Лебедев Павел Александрович',\n",
       "  'эксперт')]"
      ]
     },
     "execution_count": 23,
     "metadata": {},
     "output_type": "execute_result"
    }
   ],
   "source": [
    "#sqlite3.version до 3 не поддерживает оконных функций. поэтому считаем связку row_id+last_upd_utc в каждой таблице первичным ключом\n",
    "#и реализуем логику, используя особенность group by в sqlite3, позволяющую выводить в результат поля, не участвующие в группировке\n",
    "cur.execute(\"\"\"\n",
    "  select\n",
    "    cntr_number,\n",
    "    holding_id,\n",
    "    holding_name,\n",
    "    x_holding_number,\n",
    "    last_name||\" \"||fst_name||\" \"||mid_name as fio,\n",
    "    job_title\n",
    "  from\n",
    "  (\n",
    "  select \n",
    "    cntr.ou_num as cntr_number, \n",
    "    holding.row_id as holding_id,\n",
    "    holding.x_mts_full_accnt_name as holding_name,\n",
    "    holding.x_holding_number,\n",
    "    users.fst_name,\n",
    "    users.last_name,\n",
    "    users.mid_name,\n",
    "    users.job_title,\n",
    "    max(cntr.last_upd_utc),\n",
    "    max(urik.last_upd_utc),\n",
    "    max(holding.last_upd_utc),\n",
    "    max(nat_cntr.last_upd_utc),\n",
    "    max(users.last_upd_utc)\n",
    "  from contracts_test1 cntr\n",
    "  join organisations_test1 urik\n",
    "   on cntr.par_ou_id=urik.row_id\n",
    "  join organisations_test1 nat_cntr\n",
    "   on urik.par_ou_id=nat_cntr.row_id\n",
    "  join organisations_test1 holding\n",
    "    on nat_cntr.par_ou_id=holding.row_id\n",
    "  join users_test1 users\n",
    "    on holding.x_mts_national_manager_id=users.row_id\n",
    "  where cntr.cust_stat_cd='Открыт'\n",
    "  group by cntr.row_id, urik.row_id, nat_cntr.row_id, holding.row_id, users.row_id\n",
    "  )\n",
    "\"\"\")\n",
    "cur.fetchall()"
   ]
  },
  {
   "cell_type": "markdown",
   "metadata": {},
   "source": [
    "# Альтернативный скрипт с фильтрацией истории оконными функциями"
   ]
  },
  {
   "cell_type": "raw",
   "metadata": {},
   "source": [
    "#Запускать на sqlite3.version>3.25. Начиная с этой версии реализована поддержка оконных функций в sqlite #https://www.opennet.ru/opennews/art.shtml?num=49282\n",
    "cur.execute(\"\"\"\n",
    "  select\n",
    "    cntr_number,\n",
    "    holding_id,\n",
    "    holding_name,\n",
    "    x_holding_number,\n",
    "    last_name||\" \"||fst_name||\" \"||mid_name as fio,\n",
    "    job_title\n",
    "  from\n",
    "  (\n",
    "  select \n",
    "    cntr.ou_num as cntr_number, \n",
    "    holding.row_id as holding_id,\n",
    "    holding.x_mts_full_accnt_name as holding_name,\n",
    "    holding.x_holding_number,\n",
    "    users.fst_name,\n",
    "    users.last_name,\n",
    "    users.mid_name,\n",
    "    users.job_title,\n",
    "    row_number() over(partition by cntr.row_id order by cntr.last_upd_utc desc) as cntr_rn,\n",
    "    row_number() over(partition by urik.row_id order by urik.last_upd_utc desc) as urik_rn,\n",
    "    row_number() over(partition by holding.row_id order by holding.last_upd_utc desc) as holding_rn,\n",
    "    row_number() over(partition by nat_cntr.row_id order by nat_cntr.last_upd_utc desc) as nat_cntr_rn,\n",
    "    row_number() over(partition by users.row_id order by users.last_upd_utc desc) as users_rn\n",
    "  from contracts_test1 cntr\n",
    "  join organisations_test1 urik\n",
    "   on cntr.par_ou_id=urik.row_id\n",
    "  join organisations_test1 nat_cntr\n",
    "   on urik.par_ou_id=nat_cntr.row_id\n",
    "  join organisations_test1 holding\n",
    "    on nat_cntr.par_ou_id=holding.row_id\n",
    "  join users_test1 users\n",
    "    on holding.x_mts_national_manager_id=users.row_id\n",
    "  where cntr.cust_stat_cd='Открыт'\n",
    "  )\n",
    "  where cntr_rn=1 and urik_rn=1 and holding_rn=1 and nat_cntr_rn=1 and users_rn=1\n",
    "    \n",
    "\"\"\")\n",
    "cur.fetchall()"
   ]
  },
  {
   "cell_type": "markdown",
   "metadata": {},
   "source": [
    "# Закрываем соединение с базой"
   ]
  },
  {
   "cell_type": "code",
   "execution_count": null,
   "metadata": {
    "collapsed": true
   },
   "outputs": [],
   "source": [
    "conn.close()"
   ]
  }
 ],
 "metadata": {
  "kernelspec": {
   "display_name": "py36",
   "language": "python",
   "name": "py36"
  },
  "language_info": {
   "codemirror_mode": {
    "name": "ipython",
    "version": 3
   },
   "file_extension": ".py",
   "mimetype": "text/x-python",
   "name": "python",
   "nbconvert_exporter": "python",
   "pygments_lexer": "ipython3",
   "version": "3.6.5"
  }
 },
 "nbformat": 4,
 "nbformat_minor": 2
}
